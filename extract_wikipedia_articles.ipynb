{
 "cells": [
  {
   "cell_type": "markdown",
   "metadata": {},
   "source": [
    "# Extracting pages containing keyword from a dump \n",
    "\n",
    "This notebook extracts the pages of a given dump containing a keyword from a set of given ones.\n",
    "\n",
    "Code inspired on: https://github.com/mediawiki-utilities/python-mwxml/blob/master/ipython/labs_example.ipynb"
   ]
  },
  {
   "cell_type": "markdown",
   "metadata": {},
   "source": [
    "## Define paths to visit"
   ]
  },
  {
   "cell_type": "code",
   "execution_count": 1,
   "metadata": {},
   "outputs": [
    {
     "data": {
      "text/plain": [
       "['/mnt/vmdata/bigpicture-wssc/jrando/enwiki-20190520-pages-meta-current21.xml-p22722158p23927983.bz2',\n",
       " '/mnt/vmdata/bigpicture-wssc/jrando/enwiki-20190520-pages-meta-current22.xml-p23927984p25427984.bz2',\n",
       " '/mnt/vmdata/bigpicture-wssc/jrando/enwiki-20190520-pages-meta-current22.xml-p25427984p26823660.bz2',\n",
       " '/mnt/vmdata/bigpicture-wssc/jrando/enwiki-20190520-pages-meta-current23.xml-p26823661p28323661.bz2',\n",
       " '/mnt/vmdata/bigpicture-wssc/jrando/enwiki-20190520-pages-meta-current23.xml-p28323661p29823661.bz2',\n",
       " '/mnt/vmdata/bigpicture-wssc/jrando/enwiki-20190520-pages-meta-current23.xml-p29823661p30503449.bz2',\n",
       " '/mnt/vmdata/bigpicture-wssc/jrando/enwiki-20190520-pages-meta-current24.xml-p30503451p32003451.bz2',\n",
       " '/mnt/vmdata/bigpicture-wssc/jrando/enwiki-20190520-pages-meta-current24.xml-p32003451p33503451.bz2',\n",
       " '/mnt/vmdata/bigpicture-wssc/jrando/enwiki-20190520-pages-meta-current24.xml-p33503451p33952815.bz2',\n",
       " '/mnt/vmdata/bigpicture-wssc/jrando/enwiki-20190520-pages-meta-current25.xml-p33952816p35452816.bz2',\n",
       " '/mnt/vmdata/bigpicture-wssc/jrando/enwiki-20190520-pages-meta-current25.xml-p35452816p36952816.bz2',\n",
       " '/mnt/vmdata/bigpicture-wssc/jrando/enwiki-20190520-pages-meta-current25.xml-p36952816p38067202.bz2',\n",
       " '/mnt/vmdata/bigpicture-wssc/jrando/enwiki-20190520-pages-meta-current26.xml-p38067203p39567203.bz2',\n",
       " '/mnt/vmdata/bigpicture-wssc/jrando/enwiki-20190520-pages-meta-current26.xml-p39567203p41067203.bz2',\n",
       " '/mnt/vmdata/bigpicture-wssc/jrando/enwiki-20190520-pages-meta-current26.xml-p41067203p42567203.bz2',\n",
       " '/mnt/vmdata/bigpicture-wssc/jrando/enwiki-20190520-pages-meta-current26.xml-p42567203p42663461.bz2',\n",
       " '/mnt/vmdata/bigpicture-wssc/jrando/enwiki-20190520-pages-meta-current27.xml-p42663462p44163462.bz2',\n",
       " '/mnt/vmdata/bigpicture-wssc/jrando/enwiki-20190520-pages-meta-current27.xml-p44163462p45663462.bz2',\n",
       " '/mnt/vmdata/bigpicture-wssc/jrando/enwiki-20190520-pages-meta-current27.xml-p45663462p47163462.bz2',\n",
       " '/mnt/vmdata/bigpicture-wssc/jrando/enwiki-20190520-pages-meta-current27.xml-p47163462p48663462.bz2',\n",
       " '/mnt/vmdata/bigpicture-wssc/jrando/enwiki-20190520-pages-meta-current27.xml-p48663462p50163462.bz2',\n",
       " '/mnt/vmdata/bigpicture-wssc/jrando/enwiki-20190520-pages-meta-current27.xml-p50163462p51663462.bz2',\n",
       " '/mnt/vmdata/bigpicture-wssc/jrando/enwiki-20190520-pages-meta-current27.xml-p51663462p53163462.bz2',\n",
       " '/mnt/vmdata/bigpicture-wssc/jrando/enwiki-20190520-pages-meta-current27.xml-p53163462p54663462.bz2',\n",
       " '/mnt/vmdata/bigpicture-wssc/jrando/enwiki-20190520-pages-meta-current27.xml-p54663462p56163462.bz2',\n",
       " '/mnt/vmdata/bigpicture-wssc/jrando/enwiki-20190520-pages-meta-current27.xml-p56163462p57663462.bz2',\n",
       " '/mnt/vmdata/bigpicture-wssc/jrando/enwiki-20190520-pages-meta-current27.xml-p57663462p59163462.bz2',\n",
       " '/mnt/vmdata/bigpicture-wssc/jrando/enwiki-20190520-pages-meta-current27.xml-p59163462p60663462.bz2',\n",
       " '/mnt/vmdata/bigpicture-wssc/jrando/enwiki-20190520-pages-meta-current27.xml-p60663462p60822713.bz2']"
      ]
     },
     "execution_count": 1,
     "metadata": {},
     "output_type": "execute_result"
    }
   ],
   "source": [
    "import glob\n",
    "import mwxml\n",
    "import mwtypes\n",
    "import csv\n",
    "import datetime\n",
    "import re\n",
    "\n",
    "paths = glob.glob('/mnt/vmdata/bigpicture-wssc/jrando/enwiki-20190520-pages-meta-current*.bz2')\n",
    "paths = [mwtypes.files.normalize_path(path) for path in paths]\n",
    "paths = paths[28:]\n",
    "paths"
   ]
  },
  {
   "cell_type": "code",
   "execution_count": 2,
   "metadata": {},
   "outputs": [
    {
     "name": "stdout",
     "output_type": "stream",
     "text": [
      "29\n"
     ]
    }
   ],
   "source": [
    "print(len(paths))"
   ]
  },
  {
   "cell_type": "code",
   "execution_count": 1,
   "metadata": {},
   "outputs": [
    {
     "name": "stdout",
     "output_type": "stream",
     "text": [
      "['flood', 'floods', 'flooding', 'flooded', 'inundation']\n"
     ]
    }
   ],
   "source": [
    "keywords_raw1 = \"flood,floods,flooding,flooded,inundation\"\n",
    "keywords = keywords_raw1.split(',')\n",
    "print(keywords)"
   ]
  },
  {
   "cell_type": "markdown",
   "metadata": {},
   "source": [
    "# Find keywords function\n",
    "\n",
    "Returns a boolean defining whether a keyword was found or not"
   ]
  },
  {
   "cell_type": "code",
   "execution_count": 2,
   "metadata": {},
   "outputs": [],
   "source": [
    "def find_keywords(text):\n",
    "    if any(k in text for k in keywords):\n",
    "        return True\n",
    "    else:\n",
    "        return False"
   ]
  },
  {
   "cell_type": "code",
   "execution_count": 3,
   "metadata": {},
   "outputs": [
    {
     "data": {
      "text/plain": [
       "True"
      ]
     },
     "execution_count": 3,
     "metadata": {},
     "output_type": "execute_result"
    }
   ],
   "source": [
    "find_keywords('This city is flooded')"
   ]
  },
  {
   "cell_type": "markdown",
   "metadata": {},
   "source": [
    "## XML Processor on path"
   ]
  },
  {
   "cell_type": "code",
   "execution_count": 5,
   "metadata": {},
   "outputs": [],
   "source": [
    "def process_dump(dump, path):\n",
    "    print(path, datetime.datetime.now())\n",
    "    i = 0\n",
    "    for page in dump:\n",
    "        page_name = re.findall('title=(.+?),', str(page))[0].replace(\"'\", '')\n",
    "        page_id = re.findall('id=(.+?),', str(page))[0].replace(\"'\", '')\n",
    "        if (int(page.namespace) == 0):\n",
    "            try:\n",
    "                for revision in page: pass\n",
    "                text = revision.text\n",
    "                paragraphs = text.split('\\n\\n')\n",
    "                for paragraph in paragraphs:\n",
    "                    output = []\n",
    "                    text_split = re.split('(?<=[.?\\n])[ [<\\n]', paragraph)\n",
    "                    sentences = []\n",
    "                    for i in text_split:\n",
    "                        sentences+= list(filter(bool, i.splitlines()))\n",
    "                    for sentence in sentences:\n",
    "                        if (find_keywords(sentence) == True or find_keywords(page_name) == True):\n",
    "                            elem = {}\n",
    "                            elem['page'] = page_name\n",
    "                            elem['page_id'] = page_id\n",
    "                            elem['sentence'] = sentence\n",
    "                            elem['paragraph'] = paragraph.replace('\\n', '')\n",
    "                            output.append(elem)\n",
    "                    if (len(output)):\n",
    "                        yield output\n",
    "            except:\n",
    "                pass"
   ]
  },
  {
   "cell_type": "markdown",
   "metadata": {},
   "source": [
    "We will use the function `mwxml.map()` to process in parallel each of the dumps and write the results to an output file."
   ]
  },
  {
   "cell_type": "code",
   "execution_count": 6,
   "metadata": {
    "scrolled": false
   },
   "outputs": [
    {
     "name": "stdout",
     "output_type": "stream",
     "text": [
      "/mnt/vmdata/bigpicture-wssc/jrando/enwiki-20190520-pages-meta-current22.xml-p23927984p25427984.bz2 2019-12-28 15:29:50.642495\n",
      "/mnt/vmdata/bigpicture-wssc/jrando/enwiki-20190520-pages-meta-current21.xml-p22722158p23927983.bz2 2019-12-28 15:29:50.676202\n",
      "/mnt/vmdata/bigpicture-wssc/jrando/enwiki-20190520-pages-meta-current22.xml-p25427984p26823660.bz2 2019-12-28 15:29:50.785303\n",
      "/mnt/vmdata/bigpicture-wssc/jrando/enwiki-20190520-pages-meta-current23.xml-p26823661p28323661.bz2 2019-12-28 15:29:50.837174\n",
      "/mnt/vmdata/bigpicture-wssc/jrando/enwiki-20190520-pages-meta-current23.xml-p28323661p29823661.bz2 2019-12-28 15:29:50.817941\n",
      "/mnt/vmdata/bigpicture-wssc/jrando/enwiki-20190520-pages-meta-current23.xml-p29823661p30503449.bz2 2019-12-28 15:29:50.861558\n",
      "/mnt/vmdata/bigpicture-wssc/jrando/enwiki-20190520-pages-meta-current24.xml-p32003451p33503451.bz2 2019-12-28 15:29:50.870490\n",
      "/mnt/vmdata/bigpicture-wssc/jrando/enwiki-20190520-pages-meta-current24.xml-p30503451p32003451.bz2 2019-12-28 15:29:50.890269\n",
      "/mnt/vmdata/bigpicture-wssc/jrando/enwiki-20190520-pages-meta-current24.xml-p33503451p33952815.bz2 2019-12-28 16:10:52.176912\n",
      "/mnt/vmdata/bigpicture-wssc/jrando/enwiki-20190520-pages-meta-current25.xml-p33952816p35452816.bz2 2019-12-28 16:39:54.182843\n",
      "/mnt/vmdata/bigpicture-wssc/jrando/enwiki-20190520-pages-meta-current25.xml-p35452816p36952816.bz2 2019-12-28 16:49:40.441033\n",
      "/mnt/vmdata/bigpicture-wssc/jrando/enwiki-20190520-pages-meta-current25.xml-p36952816p38067202.bz2 2019-12-28 17:00:53.765863\n",
      "/mnt/vmdata/bigpicture-wssc/jrando/enwiki-20190520-pages-meta-current26.xml-p38067203p39567203.bz2 2019-12-28 17:03:51.267543\n",
      "/mnt/vmdata/bigpicture-wssc/jrando/enwiki-20190520-pages-meta-current26.xml-p39567203p41067203.bz2 2019-12-28 17:06:27.092948\n",
      "/mnt/vmdata/bigpicture-wssc/jrando/enwiki-20190520-pages-meta-current26.xml-p41067203p42567203.bz2 2019-12-28 17:07:24.210630\n",
      "/mnt/vmdata/bigpicture-wssc/jrando/enwiki-20190520-pages-meta-current26.xml-p42567203p42663461.bz2 2019-12-28 17:07:59.957422\n",
      "/mnt/vmdata/bigpicture-wssc/jrando/enwiki-20190520-pages-meta-current27.xml-p42663462p44163462.bz2 2019-12-28 17:09:33.589280\n",
      "/mnt/vmdata/bigpicture-wssc/jrando/enwiki-20190520-pages-meta-current27.xml-p44163462p45663462.bz2 2019-12-28 17:14:38.112883\n",
      "/mnt/vmdata/bigpicture-wssc/jrando/enwiki-20190520-pages-meta-current27.xml-p45663462p47163462.bz2 2019-12-28 18:13:36.780748\n",
      "/mnt/vmdata/bigpicture-wssc/jrando/enwiki-20190520-pages-meta-current27.xml-p47163462p48663462.bz2 2019-12-28 18:13:47.128910\n",
      "/mnt/vmdata/bigpicture-wssc/jrando/enwiki-20190520-pages-meta-current27.xml-p48663462p50163462.bz2 2019-12-28 18:30:00.885757\n",
      "/mnt/vmdata/bigpicture-wssc/jrando/enwiki-20190520-pages-meta-current27.xml-p50163462p51663462.bz2 2019-12-28 18:42:54.166962\n",
      "/mnt/vmdata/bigpicture-wssc/jrando/enwiki-20190520-pages-meta-current27.xml-p51663462p53163462.bz2 2019-12-28 18:45:29.632145\n",
      "/mnt/vmdata/bigpicture-wssc/jrando/enwiki-20190520-pages-meta-current27.xml-p53163462p54663462.bz2 2019-12-28 18:49:09.955254\n",
      "/mnt/vmdata/bigpicture-wssc/jrando/enwiki-20190520-pages-meta-current27.xml-p54663462p56163462.bz2 2019-12-28 18:49:34.134589\n",
      "/mnt/vmdata/bigpicture-wssc/jrando/enwiki-20190520-pages-meta-current27.xml-p56163462p57663462.bz2 2019-12-28 18:51:02.700761\n",
      "/mnt/vmdata/bigpicture-wssc/jrando/enwiki-20190520-pages-meta-current27.xml-p57663462p59163462.bz2 2019-12-28 19:49:21.380538\n",
      "/mnt/vmdata/bigpicture-wssc/jrando/enwiki-20190520-pages-meta-current27.xml-p59163462p60663462.bz2 2019-12-28 19:52:08.551431\n",
      "/mnt/vmdata/bigpicture-wssc/jrando/enwiki-20190520-pages-meta-current27.xml-p60663462p60822713.bz2 2019-12-28 20:08:01.665683\n"
     ]
    }
   ],
   "source": [
    "count = 0\n",
    "dict_keys = ['page', 'page_id', 'sentence', 'paragraph']\n",
    "filename = 'sentences_keyword.csv'\n",
    "\n",
    "with open(filename, 'w', newline='') as myfile:\n",
    "    wr = csv.DictWriter(myfile, dict_keys)\n",
    "    wr.writeheader()\n",
    "    \n",
    "    for info in mwxml.map(process_dump, paths, 8):\n",
    "        for i in info:\n",
    "            wr.writerow(i)\n",
    "            count += 1\n",
    "        \n"
   ]
  }
 ],
 "metadata": {
  "kernelspec": {
   "display_name": "Python 3",
   "language": "python",
   "name": "python3"
  },
  "language_info": {
   "codemirror_mode": {
    "name": "ipython",
    "version": 3
   },
   "file_extension": ".py",
   "mimetype": "text/x-python",
   "name": "python",
   "nbconvert_exporter": "python",
   "pygments_lexer": "ipython3",
   "version": "3.7.4"
  }
 },
 "nbformat": 4,
 "nbformat_minor": 1
}
